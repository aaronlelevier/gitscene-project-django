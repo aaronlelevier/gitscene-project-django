{
 "cells": [
  {
   "cell_type": "code",
   "execution_count": 1,
   "metadata": {},
   "outputs": [],
   "source": [
    "from git import Repo"
   ]
  },
  {
   "cell_type": "code",
   "execution_count": 7,
   "metadata": {},
   "outputs": [],
   "source": [
    "path = '/Users/aaron/Documents/djcode/pick-a-sports-team-project/'\n",
    "\n",
    "repo = Repo.init(path)\n",
    "assert not repo.bare"
   ]
  },
  {
   "cell_type": "code",
   "execution_count": 8,
   "metadata": {},
   "outputs": [
    {
     "data": {
      "text/plain": [
       "{'git_dir': '/Users/aaron/Documents/djcode/pick-a-sports-team-project/.git',\n",
       " '_working_tree_dir': '/Users/aaron/Documents/djcode/pick-a-sports-team-project',\n",
       " '_bare': False,\n",
       " '_common_dir': None,\n",
       " 'working_dir': '/Users/aaron/Documents/djcode/pick-a-sports-team-project',\n",
       " 'git': <git.cmd.Git at 0x10dba5fa8>,\n",
       " 'odb': <git.db.GitCmdObjectDB at 0x10dbdf128>}"
      ]
     },
     "execution_count": 8,
     "metadata": {},
     "output_type": "execute_result"
    }
   ],
   "source": [
    "vars(repo)"
   ]
  },
  {
   "cell_type": "code",
   "execution_count": 9,
   "metadata": {
    "scrolled": true
   },
   "outputs": [
    {
     "data": {
      "text/plain": [
       "[<git.Commit \"4ea065d9a8e248470ec88bc3dda851ff2ced063f\">,\n",
       " <git.Commit \"810ab9e56f5cd11e0d58c46db09bdfaeb31eb4c9\">,\n",
       " <git.Commit \"84c8439edb66265924696b2c5bc9438bec13941e\">,\n",
       " <git.Commit \"ec2e9d70d0904063bbfa5f3633d720f41dbc4126\">,\n",
       " <git.Commit \"9d8f89965fc447ac8d08ff42c70d9ad6bb8fd021\">,\n",
       " <git.Commit \"089fd55a59e973c63e2f1255278c17d89baf65df\">,\n",
       " <git.Commit \"035b41d2f5f2cb14c10285eedf1b3794924715da\">,\n",
       " <git.Commit \"4db452a2fb2d79b7439291e9985c3b8a2d5205ed\">,\n",
       " <git.Commit \"276142420a46d90a5f37ab027dba66b66cbbabbb\">,\n",
       " <git.Commit \"2a80477e5710ae24aa2754e88395c892588309f8\">,\n",
       " <git.Commit \"d2cb2229f96777177f1b21710b8d162c67cb4861\">,\n",
       " <git.Commit \"b106981e0c943dc99288939494349b5f6afa9348\">,\n",
       " <git.Commit \"a3e78db6a735bc81e12633b17fc0e958d11c8270\">,\n",
       " <git.Commit \"943ad067e4808e486e4ffd1a1e7f056695d91b15\">,\n",
       " <git.Commit \"4658da0240543239b47b91f57d0b1c0c1c8b43a1\">,\n",
       " <git.Commit \"8ef8ed2b59ea7198962aa5b6ffec94aaa5cc315c\">,\n",
       " <git.Commit \"19c3db90daf28dcfdb59c84ca0ae38f153ce3b12\">,\n",
       " <git.Commit \"e2a141df85653537f366c9a78bd66cfd7c23e2c5\">,\n",
       " <git.Commit \"adf77c30fb6f1a0b4dae3c428ec07ff71bf5b4ed\">,\n",
       " <git.Commit \"f7a3bb4adcd2ebd162d99fb5162879aca60d821b\">,\n",
       " <git.Commit \"9e22f10706bd20be21dd96ce740134d2bcb320ce\">,\n",
       " <git.Commit \"b871b9bcc04f8c060cf6206d1e1f6071e3f1550a\">,\n",
       " <git.Commit \"a4147547a92c1f235faa80c04eea49098e0d41af\">,\n",
       " <git.Commit \"b564dd9e89abe4f6f8a475f368413d63f58f08bc\">,\n",
       " <git.Commit \"cbf96222edda02d7cf1c5ce1c5002c2cc65a2a0d\">,\n",
       " <git.Commit \"dde4773735e96f09876499ee08a7558ea3b023e0\">,\n",
       " <git.Commit \"da3fde7cd8421637fcbc4bb75002a92770f1f335\">,\n",
       " <git.Commit \"a4edf8cfa9b0e1ca55c8660cfdc300da46ba6bf1\">,\n",
       " <git.Commit \"49e77eef6d655cc66cff648654402daf7ab78919\">,\n",
       " <git.Commit \"71938ab976995b18c1b9987aedb8c199fc88c736\">,\n",
       " <git.Commit \"c126af941a5d6c0e3104c94f563d7eef725df54d\">,\n",
       " <git.Commit \"a2ca3783ab4e73321237f4bf9b2402c21f46e8b4\">,\n",
       " <git.Commit \"0cf50c7a029040fdd9c37964eb02f342f945a424\">,\n",
       " <git.Commit \"8963fa5a1875e59fecd76314b8659fe28c169a8e\">,\n",
       " <git.Commit \"862158c560ac7f5f6a253b40fbef0585ec7c42a1\">,\n",
       " <git.Commit \"73516a3ce22787de3012f9a1855f9c9a4d4a18df\">,\n",
       " <git.Commit \"0307ba7c2c22559ab4f7521f0cdcab6b80303c21\">,\n",
       " <git.Commit \"53907c35796b6b9654503c49659be379c5e10073\">,\n",
       " <git.Commit \"d686ff09463727d41d4c92612a0a72e243b1990e\">,\n",
       " <git.Commit \"bc2aa838e5f40095772626cce4676fcae3b5067a\">,\n",
       " <git.Commit \"14f427fdb38a9397502e8c418ccb6cc53326fba3\">,\n",
       " <git.Commit \"77116c4392ed8700ce96620fbb0a729203734e97\">,\n",
       " <git.Commit \"b884d2a2597ca87676e8f7537f265528252ed558\">,\n",
       " <git.Commit \"3f9a830e5098216d8ab13749c15b26eaa4c535e7\">,\n",
       " <git.Commit \"420769224c3542caf5e5f351e6d3722aba489574\">,\n",
       " <git.Commit \"dcdb81654bc7b206e776e82f8915bb9a4b45259e\">,\n",
       " <git.Commit \"00a82c1e1b2758bbb9030e7359658b211e4d364b\">,\n",
       " <git.Commit \"bdda01204373610b6d1fbeabc01f8e557235a064\">,\n",
       " <git.Commit \"7c2966e9686d036f98cc9beeb66b2dec8c29b426\">,\n",
       " <git.Commit \"60413f9047168fc75fbf53112738d61ee60b7543\">]"
      ]
     },
     "execution_count": 9,
     "metadata": {},
     "output_type": "execute_result"
    }
   ],
   "source": [
    "list(repo.iter_commits('master', max_count=50))"
   ]
  },
  {
   "cell_type": "code",
   "execution_count": 11,
   "metadata": {},
   "outputs": [
    {
     "data": {
      "text/plain": [
       "<git.Commit \"4ea065d9a8e248470ec88bc3dda851ff2ced063f\">"
      ]
     },
     "execution_count": 11,
     "metadata": {},
     "output_type": "execute_result"
    }
   ],
   "source": [
    "commit = next(iter(repo.iter_commits('master', max_count=1)))\n",
    "commit"
   ]
  },
  {
   "cell_type": "code",
   "execution_count": 13,
   "metadata": {
    "scrolled": true
   },
   "outputs": [
    {
     "data": {
      "text/plain": [
       "['Index',\n",
       " 'NULL_BIN_SHA',\n",
       " 'NULL_HEX_SHA',\n",
       " 'TYPES',\n",
       " '__class__',\n",
       " '__delattr__',\n",
       " '__dir__',\n",
       " '__doc__',\n",
       " '__eq__',\n",
       " '__format__',\n",
       " '__ge__',\n",
       " '__getattr__',\n",
       " '__getattribute__',\n",
       " '__gt__',\n",
       " '__hash__',\n",
       " '__init__',\n",
       " '__init_subclass__',\n",
       " '__le__',\n",
       " '__lt__',\n",
       " '__module__',\n",
       " '__ne__',\n",
       " '__new__',\n",
       " '__reduce__',\n",
       " '__reduce_ex__',\n",
       " '__repr__',\n",
       " '__setattr__',\n",
       " '__sizeof__',\n",
       " '__slots__',\n",
       " '__str__',\n",
       " '__subclasshook__',\n",
       " '_deserialize',\n",
       " '_get_intermediate_items',\n",
       " '_id_attribute_',\n",
       " '_iter_from_process_or_stream',\n",
       " '_process_diff_args',\n",
       " '_serialize',\n",
       " '_set_cache_',\n",
       " 'author',\n",
       " 'author_tz_offset',\n",
       " 'authored_date',\n",
       " 'authored_datetime',\n",
       " 'binsha',\n",
       " 'committed_date',\n",
       " 'committed_datetime',\n",
       " 'committer',\n",
       " 'committer_tz_offset',\n",
       " 'conf_encoding',\n",
       " 'count',\n",
       " 'create_from_tree',\n",
       " 'data_stream',\n",
       " 'default_encoding',\n",
       " 'diff',\n",
       " 'encoding',\n",
       " 'env_author_date',\n",
       " 'env_committer_date',\n",
       " 'gpgsig',\n",
       " 'hexsha',\n",
       " 'iter_items',\n",
       " 'iter_parents',\n",
       " 'list_items',\n",
       " 'list_traverse',\n",
       " 'message',\n",
       " 'name_rev',\n",
       " 'new',\n",
       " 'new_from_sha',\n",
       " 'parents',\n",
       " 'repo',\n",
       " 'size',\n",
       " 'stats',\n",
       " 'stream_data',\n",
       " 'summary',\n",
       " 'traverse',\n",
       " 'tree',\n",
       " 'type']"
      ]
     },
     "execution_count": 13,
     "metadata": {},
     "output_type": "execute_result"
    }
   ],
   "source": [
    "dir(commit)"
   ]
  },
  {
   "cell_type": "code",
   "execution_count": 20,
   "metadata": {},
   "outputs": [
    {
     "name": "stdout",
     "output_type": "stream",
     "text": [
      "NULL_HEX_SHA 0000000000000000000000000000000000000000\n",
      "author_tz_offset 28800\n",
      "authored_date 1549839527\n",
      "committed_date 1549839527\n",
      "committer_tz_offset 28800\n",
      "conf_encoding i18n.commitencoding\n",
      "default_encoding UTF-8\n",
      "encoding UTF-8\n",
      "env_author_date GIT_AUTHOR_DATE\n",
      "env_committer_date GIT_COMMITTER_DATE\n",
      "hexsha 4ea065d9a8e248470ec88bc3dda851ff2ced063f\n",
      "message initial commit of 'special deal' pricing\n",
      "\n",
      "fully impletemented with no tests\n",
      "\n",
      "name_rev 4ea065d9a8e248470ec88bc3dda851ff2ced063f deal\n",
      "size 290\n",
      "summary initial commit of 'special deal' pricing\n",
      "type commit\n"
     ]
    }
   ],
   "source": [
    "def show_properties()\n",
    "    for attr in dir(commit):\n",
    "        if not attr.startswith('_'):\n",
    "            val = getattr(commit, attr)\n",
    "            if isinstance(val, (str, list, dict, int, bool)):\n",
    "                print(attr, val)"
   ]
  },
  {
   "cell_type": "code",
   "execution_count": 21,
   "metadata": {
    "scrolled": true
   },
   "outputs": [
    {
     "data": {
      "text/plain": [
       "['Index',\n",
       " 'NULL_BIN_SHA',\n",
       " 'NULL_HEX_SHA',\n",
       " 'TYPES',\n",
       " '__class__',\n",
       " '__delattr__',\n",
       " '__dir__',\n",
       " '__doc__',\n",
       " '__eq__',\n",
       " '__format__',\n",
       " '__ge__',\n",
       " '__getattr__',\n",
       " '__getattribute__',\n",
       " '__gt__',\n",
       " '__hash__',\n",
       " '__init__',\n",
       " '__init_subclass__',\n",
       " '__le__',\n",
       " '__lt__',\n",
       " '__module__',\n",
       " '__ne__',\n",
       " '__new__',\n",
       " '__reduce__',\n",
       " '__reduce_ex__',\n",
       " '__repr__',\n",
       " '__setattr__',\n",
       " '__sizeof__',\n",
       " '__slots__',\n",
       " '__str__',\n",
       " '__subclasshook__',\n",
       " '_deserialize',\n",
       " '_get_intermediate_items',\n",
       " '_id_attribute_',\n",
       " '_iter_from_process_or_stream',\n",
       " '_process_diff_args',\n",
       " '_serialize',\n",
       " '_set_cache_',\n",
       " 'author',\n",
       " 'author_tz_offset',\n",
       " 'authored_date',\n",
       " 'authored_datetime',\n",
       " 'binsha',\n",
       " 'committed_date',\n",
       " 'committed_datetime',\n",
       " 'committer',\n",
       " 'committer_tz_offset',\n",
       " 'conf_encoding',\n",
       " 'count',\n",
       " 'create_from_tree',\n",
       " 'data_stream',\n",
       " 'default_encoding',\n",
       " 'diff',\n",
       " 'encoding',\n",
       " 'env_author_date',\n",
       " 'env_committer_date',\n",
       " 'gpgsig',\n",
       " 'hexsha',\n",
       " 'iter_items',\n",
       " 'iter_parents',\n",
       " 'list_items',\n",
       " 'list_traverse',\n",
       " 'message',\n",
       " 'name_rev',\n",
       " 'new',\n",
       " 'new_from_sha',\n",
       " 'parents',\n",
       " 'repo',\n",
       " 'size',\n",
       " 'stats',\n",
       " 'stream_data',\n",
       " 'summary',\n",
       " 'traverse',\n",
       " 'tree',\n",
       " 'type']"
      ]
     },
     "execution_count": 21,
     "metadata": {},
     "output_type": "execute_result"
    }
   ],
   "source": [
    "dir(commit)"
   ]
  },
  {
   "cell_type": "code",
   "execution_count": 22,
   "metadata": {},
   "outputs": [
    {
     "data": {
      "text/plain": [
       "'aaronlelevier'"
      ]
     },
     "execution_count": 22,
     "metadata": {},
     "output_type": "execute_result"
    }
   ],
   "source": [
    "commit.author.name"
   ]
  },
  {
   "cell_type": "code",
   "execution_count": 24,
   "metadata": {},
   "outputs": [
    {
     "data": {
      "text/plain": [
       "['__class__',\n",
       " '__delattr__',\n",
       " '__dir__',\n",
       " '__doc__',\n",
       " '__eq__',\n",
       " '__format__',\n",
       " '__ge__',\n",
       " '__getattribute__',\n",
       " '__gt__',\n",
       " '__hash__',\n",
       " '__init__',\n",
       " '__init_subclass__',\n",
       " '__le__',\n",
       " '__lt__',\n",
       " '__module__',\n",
       " '__ne__',\n",
       " '__new__',\n",
       " '__reduce__',\n",
       " '__reduce_ex__',\n",
       " '__repr__',\n",
       " '__setattr__',\n",
       " '__sizeof__',\n",
       " '__slots__',\n",
       " '__str__',\n",
       " '__subclasshook__',\n",
       " '_from_string',\n",
       " '_main_actor',\n",
       " 'author',\n",
       " 'committer',\n",
       " 'conf_email',\n",
       " 'conf_name',\n",
       " 'email',\n",
       " 'env_author_email',\n",
       " 'env_author_name',\n",
       " 'env_committer_email',\n",
       " 'env_committer_name',\n",
       " 'name',\n",
       " 'name_email_regex',\n",
       " 'name_only_regex']"
      ]
     },
     "execution_count": 24,
     "metadata": {},
     "output_type": "execute_result"
    }
   ],
   "source": [
    "dir(commit.author)"
   ]
  },
  {
   "cell_type": "code",
   "execution_count": 28,
   "metadata": {
    "scrolled": true
   },
   "outputs": [
    {
     "name": "stdout",
     "output_type": "stream",
     "text": [
      "Index <class 'type'> <class 'git.diff.Diffable.Index'>\n",
      "NULL_BIN_SHA <class 'bytes'> b'\\x00\\x00\\x00\\x00\\x00\\x00\\x00\\x00\\x00\\x00\\x00\\x00\\x00\\x00\\x00\\x00\\x00\\x00\\x00\\x00'\n",
      "NULL_HEX_SHA <class 'str'> 0000000000000000000000000000000000000000\n",
      "TYPES <class 'tuple'> (b'blob', b'tree', b'commit', b'tag')\n",
      "author <class 'git.util.Actor'> aaronlelevier\n",
      "author_tz_offset <class 'int'> 28800\n",
      "authored_date <class 'int'> 1549839527\n",
      "authored_datetime <class 'datetime.datetime'> 2019-02-10 14:58:47-08:00\n",
      "binsha <class 'bytes'> b'N\\xa0e\\xd9\\xa8\\xe2HG\\x0e\\xc8\\x8b\\xc3\\xdd\\xa8Q\\xff,\\xed\\x06?'\n",
      "committed_date <class 'int'> 1549839527\n",
      "committed_datetime <class 'datetime.datetime'> 2019-02-10 14:58:47-08:00\n",
      "committer <class 'git.util.Actor'> aaronlelevier\n",
      "committer_tz_offset <class 'int'> 28800\n",
      "conf_encoding <class 'str'> i18n.commitencoding\n",
      "count <class 'method'> <bound method Commit.count of <git.Commit \"4ea065d9a8e248470ec88bc3dda851ff2ced063f\">>\n",
      "create_from_tree <class 'method'> <bound method Commit.create_from_tree of <class 'git.objects.commit.Commit'>>\n",
      "data_stream <class 'gitdb.base.OStream'> (b'N\\xa0e\\xd9\\xa8\\xe2HG\\x0e\\xc8\\x8b\\xc3\\xdd\\xa8Q\\xff,\\xed\\x06?', b'commit', 290, <git.cmd.Git.CatFileContentStream object at 0x10e4f7388>)\n",
      "default_encoding <class 'str'> UTF-8\n",
      "diff <class 'method'> <bound method Diffable.diff of <git.Commit \"4ea065d9a8e248470ec88bc3dda851ff2ced063f\">>\n",
      "encoding <class 'str'> UTF-8\n",
      "env_author_date <class 'str'> GIT_AUTHOR_DATE\n",
      "env_committer_date <class 'str'> GIT_COMMITTER_DATE\n",
      "gpgsig <class 'NoneType'> None\n",
      "hexsha <class 'str'> 4ea065d9a8e248470ec88bc3dda851ff2ced063f\n",
      "iter_items <class 'method'> <bound method Commit.iter_items of <class 'git.objects.commit.Commit'>>\n",
      "iter_parents <class 'method'> <bound method Commit.iter_parents of <git.Commit \"4ea065d9a8e248470ec88bc3dda851ff2ced063f\">>\n",
      "list_items <class 'method'> <bound method Iterable.list_items of <class 'git.objects.commit.Commit'>>\n",
      "list_traverse <class 'method'> <bound method Traversable.list_traverse of <git.Commit \"4ea065d9a8e248470ec88bc3dda851ff2ced063f\">>\n",
      "message <class 'str'> initial commit of 'special deal' pricing\n",
      "\n",
      "fully impletemented with no tests\n",
      "\n",
      "name_rev <class 'str'> 4ea065d9a8e248470ec88bc3dda851ff2ced063f deal\n",
      "new <class 'method'> <bound method Object.new of <class 'git.objects.commit.Commit'>>\n",
      "new_from_sha <class 'method'> <bound method Object.new_from_sha of <class 'git.objects.commit.Commit'>>\n",
      "parents <class 'tuple'> (<git.Commit \"810ab9e56f5cd11e0d58c46db09bdfaeb31eb4c9\">,)\n",
      "repo <class 'git.repo.base.Repo'> <git.Repo \"/Users/aaron/Documents/djcode/pick-a-sports-team-project/.git\">\n",
      "size <class 'int'> 290\n",
      "stats <class 'git.util.Stats'> <git.util.Stats object at 0x10e4f2c88>\n",
      "stream_data <class 'method'> <bound method Object.stream_data of <git.Commit \"4ea065d9a8e248470ec88bc3dda851ff2ced063f\">>\n",
      "summary <class 'str'> initial commit of 'special deal' pricing\n",
      "traverse <class 'method'> <bound method Traversable.traverse of <git.Commit \"4ea065d9a8e248470ec88bc3dda851ff2ced063f\">>\n",
      "tree <class 'git.objects.tree.Tree'> 517cc690cda247da00d5931f6ba6bd07641e0953\n",
      "type <class 'str'> commit\n"
     ]
    }
   ],
   "source": [
    "def show_properties(repo, obj):\n",
    "    for attr in dir(obj):\n",
    "        if not attr.startswith('_'):\n",
    "            val = getattr(obj, attr)\n",
    "            print(attr, type(val), val)\n",
    "                \n",
    "show_properties(repo, commit)"
   ]
  },
  {
   "cell_type": "code",
   "execution_count": 30,
   "metadata": {},
   "outputs": [
    {
     "data": {
      "text/plain": [
       "'git.objects.commit.Commit'"
      ]
     },
     "execution_count": 30,
     "metadata": {},
     "output_type": "execute_result"
    }
   ],
   "source": [
    "def python_path(o):\n",
    "  # o.__module__ + \".\" + o.__class__.__qualname__ is an example in\n",
    "  # this context of H.L. Mencken's \"neat, plausible, and wrong.\"\n",
    "  # Python makes no guarantees as to whether the __module__ special\n",
    "  # attribute is defined, so we take a more circumspect approach.\n",
    "  # Alas, the module name is explicitly excluded from __qualname__\n",
    "  # in Python 3.\n",
    "\n",
    "  module = o.__class__.__module__\n",
    "  if module is None or module == str.__class__.__module__:\n",
    "    return o.__class__.__name__  # Avoid reporting __builtin__\n",
    "  else:\n",
    "    return module + '.' + o.__class__.__name__\n",
    "\n",
    "pp = python_path(commit)\n",
    "pp"
   ]
  },
  {
   "cell_type": "code",
   "execution_count": 33,
   "metadata": {},
   "outputs": [
    {
     "data": {
      "text/plain": [
       "True"
      ]
     },
     "execution_count": 33,
     "metadata": {},
     "output_type": "execute_result"
    }
   ],
   "source": [
    "def is_git_class(o):\n",
    "    pp = python_path(commit)\n",
    "    if pp.startswith('git'):\n",
    "        return True\n",
    "    \n",
    "is_git_class(commit)"
   ]
  },
  {
   "cell_type": "code",
   "execution_count": 46,
   "metadata": {
    "scrolled": true
   },
   "outputs": [
    {
     "name": "stdout",
     "output_type": "stream",
     "text": [
      "Index <class 'type'> <class 'git.diff.Diffable.Index'> type\n",
      "NULL_BIN_SHA <class 'bytes'> b'\\x00\\x00\\x00\\x00\\x00\\x00\\x00\\x00\\x00\\x00\\x00\\x00\\x00\\x00\\x00\\x00\\x00\\x00\\x00\\x00' bytes\n",
      "NULL_HEX_SHA <class 'str'> 0000000000000000000000000000000000000000 str\n",
      "TYPES <class 'tuple'> (b'blob', b'tree', b'commit', b'tag') tuple\n",
      "author <class 'git.util.Actor'> aaronlelevier git.util.Actor\n",
      "author_tz_offset <class 'int'> 28800 int\n",
      "authored_date <class 'int'> 1549839527 int\n",
      "authored_datetime <class 'datetime.datetime'> 2019-02-10 14:58:47-08:00 datetime.datetime\n",
      "binsha <class 'bytes'> b'N\\xa0e\\xd9\\xa8\\xe2HG\\x0e\\xc8\\x8b\\xc3\\xdd\\xa8Q\\xff,\\xed\\x06?' bytes\n",
      "committed_date <class 'int'> 1549839527 int\n",
      "committed_datetime <class 'datetime.datetime'> 2019-02-10 14:58:47-08:00 datetime.datetime\n",
      "committer <class 'git.util.Actor'> aaronlelevier git.util.Actor\n",
      "committer_tz_offset <class 'int'> 28800 int\n",
      "conf_encoding <class 'str'> i18n.commitencoding str\n",
      "count <class 'method'> <bound method Commit.count of <git.Commit \"4ea065d9a8e248470ec88bc3dda851ff2ced063f\">> method\n",
      "create_from_tree <class 'method'> <bound method Commit.create_from_tree of <class 'git.objects.commit.Commit'>> method\n"
     ]
    },
    {
     "ename": "BrokenPipeError",
     "evalue": "[Errno 32] Broken pipe",
     "output_type": "error",
     "traceback": [
      "\u001b[0;31m---------------------------------------------------------------------------\u001b[0m",
      "\u001b[0;31mBrokenPipeError\u001b[0m                           Traceback (most recent call last)",
      "\u001b[0;32m<ipython-input-46-19bb8c9c932c>\u001b[0m in \u001b[0;36m<module>\u001b[0;34m\u001b[0m\n\u001b[1;32m     10\u001b[0m                 \u001b[0mprint\u001b[0m\u001b[0;34m(\u001b[0m\u001b[0mattr\u001b[0m\u001b[0;34m,\u001b[0m \u001b[0mtype\u001b[0m\u001b[0;34m(\u001b[0m\u001b[0mval\u001b[0m\u001b[0;34m)\u001b[0m\u001b[0;34m,\u001b[0m \u001b[0mval\u001b[0m\u001b[0;34m)\u001b[0m\u001b[0;34m\u001b[0m\u001b[0;34m\u001b[0m\u001b[0m\n\u001b[1;32m     11\u001b[0m \u001b[0;34m\u001b[0m\u001b[0m\n\u001b[0;32m---> 12\u001b[0;31m \u001b[0mshow_properties\u001b[0m\u001b[0;34m(\u001b[0m\u001b[0mrepo\u001b[0m\u001b[0;34m,\u001b[0m \u001b[0mcommit\u001b[0m\u001b[0;34m)\u001b[0m\u001b[0;34m\u001b[0m\u001b[0;34m\u001b[0m\u001b[0m\n\u001b[0m",
      "\u001b[0;32m<ipython-input-46-19bb8c9c932c>\u001b[0m in \u001b[0;36mshow_properties\u001b[0;34m(repo, obj)\u001b[0m\n\u001b[1;32m      2\u001b[0m     \u001b[0;32mfor\u001b[0m \u001b[0mattr\u001b[0m \u001b[0;32min\u001b[0m \u001b[0mdir\u001b[0m\u001b[0;34m(\u001b[0m\u001b[0mobj\u001b[0m\u001b[0;34m)\u001b[0m\u001b[0;34m:\u001b[0m\u001b[0;34m\u001b[0m\u001b[0;34m\u001b[0m\u001b[0m\n\u001b[1;32m      3\u001b[0m         \u001b[0;32mif\u001b[0m \u001b[0;32mnot\u001b[0m \u001b[0mattr\u001b[0m\u001b[0;34m.\u001b[0m\u001b[0mstartswith\u001b[0m\u001b[0;34m(\u001b[0m\u001b[0;34m'_'\u001b[0m\u001b[0;34m)\u001b[0m\u001b[0;34m:\u001b[0m\u001b[0;34m\u001b[0m\u001b[0;34m\u001b[0m\u001b[0m\n\u001b[0;32m----> 4\u001b[0;31m             \u001b[0mval\u001b[0m \u001b[0;34m=\u001b[0m \u001b[0mgetattr\u001b[0m\u001b[0;34m(\u001b[0m\u001b[0mobj\u001b[0m\u001b[0;34m,\u001b[0m \u001b[0mattr\u001b[0m\u001b[0;34m)\u001b[0m\u001b[0;34m\u001b[0m\u001b[0;34m\u001b[0m\u001b[0m\n\u001b[0m\u001b[1;32m      5\u001b[0m \u001b[0;34m\u001b[0m\u001b[0m\n\u001b[1;32m      6\u001b[0m             \u001b[0;32mif\u001b[0m \u001b[0mis_git_class\u001b[0m\u001b[0;34m(\u001b[0m\u001b[0mval\u001b[0m\u001b[0;34m)\u001b[0m\u001b[0;34m:\u001b[0m\u001b[0;34m\u001b[0m\u001b[0;34m\u001b[0m\u001b[0m\n",
      "\u001b[0;32m~/Documents/ml/venv/lib/python3.7/site-packages/git/objects/base.py\u001b[0m in \u001b[0;36mdata_stream\u001b[0;34m(self)\u001b[0m\n\u001b[1;32m    110\u001b[0m         \"\"\" :return:  File Object compatible stream to the uncompressed raw data of the object\n\u001b[1;32m    111\u001b[0m         :note: returned streams must be read in order\"\"\"\n\u001b[0;32m--> 112\u001b[0;31m         \u001b[0;32mreturn\u001b[0m \u001b[0mself\u001b[0m\u001b[0;34m.\u001b[0m\u001b[0mrepo\u001b[0m\u001b[0;34m.\u001b[0m\u001b[0modb\u001b[0m\u001b[0;34m.\u001b[0m\u001b[0mstream\u001b[0m\u001b[0;34m(\u001b[0m\u001b[0mself\u001b[0m\u001b[0;34m.\u001b[0m\u001b[0mbinsha\u001b[0m\u001b[0;34m)\u001b[0m\u001b[0;34m\u001b[0m\u001b[0;34m\u001b[0m\u001b[0m\n\u001b[0m\u001b[1;32m    113\u001b[0m \u001b[0;34m\u001b[0m\u001b[0m\n\u001b[1;32m    114\u001b[0m     \u001b[0;32mdef\u001b[0m \u001b[0mstream_data\u001b[0m\u001b[0;34m(\u001b[0m\u001b[0mself\u001b[0m\u001b[0;34m,\u001b[0m \u001b[0mostream\u001b[0m\u001b[0;34m)\u001b[0m\u001b[0;34m:\u001b[0m\u001b[0;34m\u001b[0m\u001b[0;34m\u001b[0m\u001b[0m\n",
      "\u001b[0;32m~/Documents/ml/venv/lib/python3.7/site-packages/git/db.py\u001b[0m in \u001b[0;36mstream\u001b[0;34m(self, sha)\u001b[0m\n\u001b[1;32m     40\u001b[0m     \u001b[0;32mdef\u001b[0m \u001b[0mstream\u001b[0m\u001b[0;34m(\u001b[0m\u001b[0mself\u001b[0m\u001b[0;34m,\u001b[0m \u001b[0msha\u001b[0m\u001b[0;34m)\u001b[0m\u001b[0;34m:\u001b[0m\u001b[0;34m\u001b[0m\u001b[0;34m\u001b[0m\u001b[0m\n\u001b[1;32m     41\u001b[0m         \u001b[0;34m\"\"\"For now, all lookup is done by git itself\"\"\"\u001b[0m\u001b[0;34m\u001b[0m\u001b[0;34m\u001b[0m\u001b[0m\n\u001b[0;32m---> 42\u001b[0;31m         \u001b[0mhexsha\u001b[0m\u001b[0;34m,\u001b[0m \u001b[0mtypename\u001b[0m\u001b[0;34m,\u001b[0m \u001b[0msize\u001b[0m\u001b[0;34m,\u001b[0m \u001b[0mstream\u001b[0m \u001b[0;34m=\u001b[0m \u001b[0mself\u001b[0m\u001b[0;34m.\u001b[0m\u001b[0m_git\u001b[0m\u001b[0;34m.\u001b[0m\u001b[0mstream_object_data\u001b[0m\u001b[0;34m(\u001b[0m\u001b[0mbin_to_hex\u001b[0m\u001b[0;34m(\u001b[0m\u001b[0msha\u001b[0m\u001b[0;34m)\u001b[0m\u001b[0;34m)\u001b[0m\u001b[0;34m\u001b[0m\u001b[0;34m\u001b[0m\u001b[0m\n\u001b[0m\u001b[1;32m     43\u001b[0m         \u001b[0;32mreturn\u001b[0m \u001b[0mOStream\u001b[0m\u001b[0;34m(\u001b[0m\u001b[0mhex_to_bin\u001b[0m\u001b[0;34m(\u001b[0m\u001b[0mhexsha\u001b[0m\u001b[0;34m)\u001b[0m\u001b[0;34m,\u001b[0m \u001b[0mtypename\u001b[0m\u001b[0;34m,\u001b[0m \u001b[0msize\u001b[0m\u001b[0;34m,\u001b[0m \u001b[0mstream\u001b[0m\u001b[0;34m)\u001b[0m\u001b[0;34m\u001b[0m\u001b[0;34m\u001b[0m\u001b[0m\n\u001b[1;32m     44\u001b[0m \u001b[0;34m\u001b[0m\u001b[0m\n",
      "\u001b[0;32m~/Documents/ml/venv/lib/python3.7/site-packages/git/cmd.py\u001b[0m in \u001b[0;36mstream_object_data\u001b[0;34m(self, ref)\u001b[0m\n\u001b[1;32m   1092\u001b[0m         :note: This method is not threadsafe, you need one independent Command instance per thread to be safe !\"\"\"\n\u001b[1;32m   1093\u001b[0m         \u001b[0mcmd\u001b[0m \u001b[0;34m=\u001b[0m \u001b[0mself\u001b[0m\u001b[0;34m.\u001b[0m\u001b[0m_get_persistent_cmd\u001b[0m\u001b[0;34m(\u001b[0m\u001b[0;34m\"cat_file_all\"\u001b[0m\u001b[0;34m,\u001b[0m \u001b[0;34m\"cat_file\"\u001b[0m\u001b[0;34m,\u001b[0m \u001b[0mbatch\u001b[0m\u001b[0;34m=\u001b[0m\u001b[0;32mTrue\u001b[0m\u001b[0;34m)\u001b[0m\u001b[0;34m\u001b[0m\u001b[0;34m\u001b[0m\u001b[0m\n\u001b[0;32m-> 1094\u001b[0;31m         \u001b[0mhexsha\u001b[0m\u001b[0;34m,\u001b[0m \u001b[0mtypename\u001b[0m\u001b[0;34m,\u001b[0m \u001b[0msize\u001b[0m \u001b[0;34m=\u001b[0m \u001b[0mself\u001b[0m\u001b[0;34m.\u001b[0m\u001b[0m__get_object_header\u001b[0m\u001b[0;34m(\u001b[0m\u001b[0mcmd\u001b[0m\u001b[0;34m,\u001b[0m \u001b[0mref\u001b[0m\u001b[0;34m)\u001b[0m\u001b[0;34m\u001b[0m\u001b[0;34m\u001b[0m\u001b[0m\n\u001b[0m\u001b[1;32m   1095\u001b[0m         \u001b[0;32mreturn\u001b[0m \u001b[0;34m(\u001b[0m\u001b[0mhexsha\u001b[0m\u001b[0;34m,\u001b[0m \u001b[0mtypename\u001b[0m\u001b[0;34m,\u001b[0m \u001b[0msize\u001b[0m\u001b[0;34m,\u001b[0m \u001b[0mself\u001b[0m\u001b[0;34m.\u001b[0m\u001b[0mCatFileContentStream\u001b[0m\u001b[0;34m(\u001b[0m\u001b[0msize\u001b[0m\u001b[0;34m,\u001b[0m \u001b[0mcmd\u001b[0m\u001b[0;34m.\u001b[0m\u001b[0mstdout\u001b[0m\u001b[0;34m)\u001b[0m\u001b[0;34m)\u001b[0m\u001b[0;34m\u001b[0m\u001b[0;34m\u001b[0m\u001b[0m\n\u001b[1;32m   1096\u001b[0m \u001b[0;34m\u001b[0m\u001b[0m\n",
      "\u001b[0;32m~/Documents/ml/venv/lib/python3.7/site-packages/git/cmd.py\u001b[0m in \u001b[0;36m__get_object_header\u001b[0;34m(self, cmd, ref)\u001b[0m\n\u001b[1;32m   1063\u001b[0m     \u001b[0;32mdef\u001b[0m \u001b[0m__get_object_header\u001b[0m\u001b[0;34m(\u001b[0m\u001b[0mself\u001b[0m\u001b[0;34m,\u001b[0m \u001b[0mcmd\u001b[0m\u001b[0;34m,\u001b[0m \u001b[0mref\u001b[0m\u001b[0;34m)\u001b[0m\u001b[0;34m:\u001b[0m\u001b[0;34m\u001b[0m\u001b[0;34m\u001b[0m\u001b[0m\n\u001b[1;32m   1064\u001b[0m         \u001b[0mcmd\u001b[0m\u001b[0;34m.\u001b[0m\u001b[0mstdin\u001b[0m\u001b[0;34m.\u001b[0m\u001b[0mwrite\u001b[0m\u001b[0;34m(\u001b[0m\u001b[0mself\u001b[0m\u001b[0;34m.\u001b[0m\u001b[0m_prepare_ref\u001b[0m\u001b[0;34m(\u001b[0m\u001b[0mref\u001b[0m\u001b[0;34m)\u001b[0m\u001b[0;34m)\u001b[0m\u001b[0;34m\u001b[0m\u001b[0;34m\u001b[0m\u001b[0m\n\u001b[0;32m-> 1065\u001b[0;31m         \u001b[0mcmd\u001b[0m\u001b[0;34m.\u001b[0m\u001b[0mstdin\u001b[0m\u001b[0;34m.\u001b[0m\u001b[0mflush\u001b[0m\u001b[0;34m(\u001b[0m\u001b[0;34m)\u001b[0m\u001b[0;34m\u001b[0m\u001b[0;34m\u001b[0m\u001b[0m\n\u001b[0m\u001b[1;32m   1066\u001b[0m         \u001b[0;32mreturn\u001b[0m \u001b[0mself\u001b[0m\u001b[0;34m.\u001b[0m\u001b[0m_parse_object_header\u001b[0m\u001b[0;34m(\u001b[0m\u001b[0mcmd\u001b[0m\u001b[0;34m.\u001b[0m\u001b[0mstdout\u001b[0m\u001b[0;34m.\u001b[0m\u001b[0mreadline\u001b[0m\u001b[0;34m(\u001b[0m\u001b[0;34m)\u001b[0m\u001b[0;34m)\u001b[0m\u001b[0;34m\u001b[0m\u001b[0;34m\u001b[0m\u001b[0m\n\u001b[1;32m   1067\u001b[0m \u001b[0;34m\u001b[0m\u001b[0m\n",
      "\u001b[0;31mBrokenPipeError\u001b[0m: [Errno 32] Broken pipe"
     ]
    }
   ],
   "source": [
    "def show_properties(repo, obj):\n",
    "    for attr in dir(obj):\n",
    "        if not attr.startswith('_'):\n",
    "            val = getattr(obj, attr)\n",
    "\n",
    "            if is_git_class(val):\n",
    "                pp = python_path(val)\n",
    "                print(attr, type(val), val, f\"{pp}\")\n",
    "            else:\n",
    "                print(attr, type(val), val)\n",
    "            \n",
    "show_properties(repo, commit)"
   ]
  },
  {
   "cell_type": "code",
   "execution_count": 47,
   "metadata": {},
   "outputs": [
    {
     "data": {
      "text/plain": [
       "'aaronlelevier'"
      ]
     },
     "execution_count": 47,
     "metadata": {},
     "output_type": "execute_result"
    }
   ],
   "source": [
    "commit.author.name"
   ]
  },
  {
   "cell_type": "code",
   "execution_count": 48,
   "metadata": {},
   "outputs": [
    {
     "data": {
      "text/plain": [
       "'pyaaron@gmail.com'"
      ]
     },
     "execution_count": 48,
     "metadata": {},
     "output_type": "execute_result"
    }
   ],
   "source": [
    "commit.author.email"
   ]
  },
  {
   "cell_type": "code",
   "execution_count": 55,
   "metadata": {},
   "outputs": [
    {
     "name": "stdout",
     "output_type": "stream",
     "text": [
      "conf_email : email\n",
      "conf_name : name\n",
      "email : pyaaron@gmail.com\n",
      "env_author_email : GIT_AUTHOR_EMAIL\n",
      "env_author_name : GIT_AUTHOR_NAME\n",
      "env_committer_email : GIT_COMMITTER_EMAIL\n",
      "env_committer_name : GIT_COMMITTER_NAME\n",
      "name : aaronlelevier\n"
     ]
    }
   ],
   "source": [
    "def show_properties_one_level(repo, obj):\n",
    "    for attr in dir(obj):\n",
    "        try:\n",
    "            val = getattr(obj, attr)\n",
    "            if not attr.startswith('_') and isinstance(val, (str, int, bool, list, dict)):\n",
    "                print(attr, ':', val)\n",
    "        except BrokenPipeError:\n",
    "            print('BrokenPipeError:', attr)\n",
    "\n",
    "show_properties_one_level(repo, commit.author)"
   ]
  },
  {
   "cell_type": "code",
   "execution_count": 56,
   "metadata": {},
   "outputs": [
    {
     "name": "stdout",
     "output_type": "stream",
     "text": [
      "NULL_HEX_SHA : 0000000000000000000000000000000000000000\n",
      "author_tz_offset : 28800\n",
      "authored_date : 1549839527\n",
      "committed_date : 1549839527\n",
      "committer_tz_offset : 28800\n",
      "conf_encoding : i18n.commitencoding\n",
      "BrokenPipeError: data_stream\n",
      "default_encoding : UTF-8\n",
      "encoding : UTF-8\n",
      "env_author_date : GIT_AUTHOR_DATE\n",
      "env_committer_date : GIT_COMMITTER_DATE\n",
      "hexsha : 4ea065d9a8e248470ec88bc3dda851ff2ced063f\n",
      "message : initial commit of 'special deal' pricing\n",
      "\n",
      "fully impletemented with no tests\n",
      "\n",
      "name_rev : 4ea065d9a8e248470ec88bc3dda851ff2ced063f deal\n",
      "size : 290\n",
      "summary : initial commit of 'special deal' pricing\n",
      "type : commit\n"
     ]
    }
   ],
   "source": [
    "show_properties_one_level(repo, commit)"
   ]
  },
  {
   "cell_type": "code",
   "execution_count": 59,
   "metadata": {},
   "outputs": [
    {
     "data": {
      "text/plain": [
       "datetime.datetime(2019, 2, 10, 14, 58, 47)"
      ]
     },
     "execution_count": 59,
     "metadata": {},
     "output_type": "execute_result"
    }
   ],
   "source": [
    "import datetime\n",
    "\n",
    "\n",
    "\n",
    "def seconds_to_date(seconds):\n",
    "    return datetime.datetime.fromtimestamp(seconds)\n",
    "\n",
    "seconds_to_date(commit.authored_date)"
   ]
  },
  {
   "cell_type": "code",
   "execution_count": 60,
   "metadata": {},
   "outputs": [
    {
     "data": {
      "text/plain": [
       "datetime.datetime(2019, 2, 10, 14, 58, 47)"
      ]
     },
     "execution_count": 60,
     "metadata": {},
     "output_type": "execute_result"
    }
   ],
   "source": [
    "seconds_to_date(commit.committed_date)"
   ]
  },
  {
   "cell_type": "code",
   "execution_count": 64,
   "metadata": {},
   "outputs": [],
   "source": [
    "for commit in :\n",
    "    try:\n",
    "        print(seconds_to_date(commit.committed_date))\n",
    "    except:\n",
    "        pass"
   ]
  },
  {
   "cell_type": "code",
   "execution_count": 67,
   "metadata": {},
   "outputs": [
    {
     "data": {
      "text/plain": [
       "76"
      ]
     },
     "execution_count": 67,
     "metadata": {},
     "output_type": "execute_result"
    }
   ],
   "source": [
    "commits = list(repo.iter_commits('master'))\n",
    "len(commits)"
   ]
  },
  {
   "cell_type": "code",
   "execution_count": 74,
   "metadata": {},
   "outputs": [],
   "source": [
    "commit = commits[0]"
   ]
  },
  {
   "cell_type": "code",
   "execution_count": 75,
   "metadata": {
    "scrolled": true
   },
   "outputs": [
    {
     "data": {
      "text/plain": [
       "['Index',\n",
       " 'NULL_BIN_SHA',\n",
       " 'NULL_HEX_SHA',\n",
       " 'TYPES',\n",
       " '__class__',\n",
       " '__delattr__',\n",
       " '__dir__',\n",
       " '__doc__',\n",
       " '__eq__',\n",
       " '__format__',\n",
       " '__ge__',\n",
       " '__getattr__',\n",
       " '__getattribute__',\n",
       " '__gt__',\n",
       " '__hash__',\n",
       " '__init__',\n",
       " '__init_subclass__',\n",
       " '__le__',\n",
       " '__lt__',\n",
       " '__module__',\n",
       " '__ne__',\n",
       " '__new__',\n",
       " '__reduce__',\n",
       " '__reduce_ex__',\n",
       " '__repr__',\n",
       " '__setattr__',\n",
       " '__sizeof__',\n",
       " '__slots__',\n",
       " '__str__',\n",
       " '__subclasshook__',\n",
       " '_deserialize',\n",
       " '_get_intermediate_items',\n",
       " '_id_attribute_',\n",
       " '_iter_from_process_or_stream',\n",
       " '_process_diff_args',\n",
       " '_serialize',\n",
       " '_set_cache_',\n",
       " 'author',\n",
       " 'author_tz_offset',\n",
       " 'authored_date',\n",
       " 'authored_datetime',\n",
       " 'binsha',\n",
       " 'committed_date',\n",
       " 'committed_datetime',\n",
       " 'committer',\n",
       " 'committer_tz_offset',\n",
       " 'conf_encoding',\n",
       " 'count',\n",
       " 'create_from_tree',\n",
       " 'data_stream',\n",
       " 'default_encoding',\n",
       " 'diff',\n",
       " 'encoding',\n",
       " 'env_author_date',\n",
       " 'env_committer_date',\n",
       " 'gpgsig',\n",
       " 'hexsha',\n",
       " 'iter_items',\n",
       " 'iter_parents',\n",
       " 'list_items',\n",
       " 'list_traverse',\n",
       " 'message',\n",
       " 'name_rev',\n",
       " 'new',\n",
       " 'new_from_sha',\n",
       " 'parents',\n",
       " 'repo',\n",
       " 'size',\n",
       " 'stats',\n",
       " 'stream_data',\n",
       " 'summary',\n",
       " 'traverse',\n",
       " 'tree',\n",
       " 'type']"
      ]
     },
     "execution_count": 75,
     "metadata": {},
     "output_type": "execute_result"
    }
   ],
   "source": [
    "dir(commit)"
   ]
  },
  {
   "cell_type": "code",
   "execution_count": 100,
   "metadata": {
    "scrolled": true
   },
   "outputs": [
    {
     "data": {
      "text/plain": [
       "['Index',\n",
       " 'NULL_BIN_SHA',\n",
       " 'NULL_HEX_SHA',\n",
       " 'TYPES',\n",
       " '__class__',\n",
       " '__delattr__',\n",
       " '__dir__',\n",
       " '__doc__',\n",
       " '__eq__',\n",
       " '__format__',\n",
       " '__ge__',\n",
       " '__getattr__',\n",
       " '__getattribute__',\n",
       " '__gt__',\n",
       " '__hash__',\n",
       " '__init__',\n",
       " '__init_subclass__',\n",
       " '__le__',\n",
       " '__lt__',\n",
       " '__module__',\n",
       " '__ne__',\n",
       " '__new__',\n",
       " '__reduce__',\n",
       " '__reduce_ex__',\n",
       " '__repr__',\n",
       " '__setattr__',\n",
       " '__sizeof__',\n",
       " '__slots__',\n",
       " '__str__',\n",
       " '__subclasshook__',\n",
       " '_deserialize',\n",
       " '_get_intermediate_items',\n",
       " '_id_attribute_',\n",
       " '_iter_from_process_or_stream',\n",
       " '_process_diff_args',\n",
       " '_serialize',\n",
       " '_set_cache_',\n",
       " 'author',\n",
       " 'author_tz_offset',\n",
       " 'authored_date',\n",
       " 'authored_datetime',\n",
       " 'binsha',\n",
       " 'committed_date',\n",
       " 'committed_datetime',\n",
       " 'committer',\n",
       " 'committer_tz_offset',\n",
       " 'conf_encoding',\n",
       " 'count',\n",
       " 'create_from_tree',\n",
       " 'data_stream',\n",
       " 'default_encoding',\n",
       " 'diff',\n",
       " 'encoding',\n",
       " 'env_author_date',\n",
       " 'env_committer_date',\n",
       " 'gpgsig',\n",
       " 'hexsha',\n",
       " 'iter_items',\n",
       " 'iter_parents',\n",
       " 'list_items',\n",
       " 'list_traverse',\n",
       " 'message',\n",
       " 'name_rev',\n",
       " 'new',\n",
       " 'new_from_sha',\n",
       " 'parents',\n",
       " 'repo',\n",
       " 'size',\n",
       " 'stats',\n",
       " 'stream_data',\n",
       " 'summary',\n",
       " 'traverse',\n",
       " 'tree',\n",
       " 'type']"
      ]
     },
     "execution_count": 100,
     "metadata": {},
     "output_type": "execute_result"
    }
   ],
   "source": [
    "commit = next(iter(repo.iter_commits('master')))\n",
    "commit\n",
    "dir(commit)"
   ]
  },
  {
   "cell_type": "code",
   "execution_count": 101,
   "metadata": {},
   "outputs": [
    {
     "ename": "BrokenPipeError",
     "evalue": "[Errno 32] Broken pipe",
     "output_type": "error",
     "traceback": [
      "\u001b[0;31m---------------------------------------------------------------------------\u001b[0m",
      "\u001b[0;31mBrokenPipeError\u001b[0m                           Traceback (most recent call last)",
      "\u001b[0;32m<ipython-input-101-c9ece72441f0>\u001b[0m in \u001b[0;36m<module>\u001b[0;34m\u001b[0m\n\u001b[0;32m----> 1\u001b[0;31m \u001b[0mcommit\u001b[0m\u001b[0;34m.\u001b[0m\u001b[0mauthor\u001b[0m\u001b[0;34m\u001b[0m\u001b[0;34m\u001b[0m\u001b[0m\n\u001b[0m",
      "\u001b[0;32m~/Documents/ml/venv/lib/python3.7/site-packages/gitdb/util.py\u001b[0m in \u001b[0;36m__getattr__\u001b[0;34m(self, attr)\u001b[0m\n\u001b[1;32m    251\u001b[0m         \u001b[0mto\u001b[0m \u001b[0mbe\u001b[0m \u001b[0mcreated\u001b[0m \u001b[0;32mand\u001b[0m \u001b[0mset\u001b[0m\u001b[0;34m.\u001b[0m \u001b[0mNext\u001b[0m \u001b[0mtime\u001b[0m \u001b[0mthe\u001b[0m \u001b[0msame\u001b[0m \u001b[0mattribute\u001b[0m \u001b[0;32mis\u001b[0m \u001b[0mreqeusted\u001b[0m\u001b[0;34m,\u001b[0m \u001b[0mit\u001b[0m \u001b[0;32mis\u001b[0m \u001b[0msimply\u001b[0m\u001b[0;34m\u001b[0m\u001b[0;34m\u001b[0m\u001b[0m\n\u001b[1;32m    252\u001b[0m         returned from our dict/slots. \"\"\"\n\u001b[0;32m--> 253\u001b[0;31m         \u001b[0mself\u001b[0m\u001b[0;34m.\u001b[0m\u001b[0m_set_cache_\u001b[0m\u001b[0;34m(\u001b[0m\u001b[0mattr\u001b[0m\u001b[0;34m)\u001b[0m\u001b[0;34m\u001b[0m\u001b[0;34m\u001b[0m\u001b[0m\n\u001b[0m\u001b[1;32m    254\u001b[0m         \u001b[0;31m# will raise in case the cache was not created\u001b[0m\u001b[0;34m\u001b[0m\u001b[0;34m\u001b[0m\u001b[0;34m\u001b[0m\u001b[0m\n\u001b[1;32m    255\u001b[0m         \u001b[0;32mreturn\u001b[0m \u001b[0mobject\u001b[0m\u001b[0;34m.\u001b[0m\u001b[0m__getattribute__\u001b[0m\u001b[0;34m(\u001b[0m\u001b[0mself\u001b[0m\u001b[0;34m,\u001b[0m \u001b[0mattr\u001b[0m\u001b[0;34m)\u001b[0m\u001b[0;34m\u001b[0m\u001b[0;34m\u001b[0m\u001b[0m\n",
      "\u001b[0;32m~/Documents/ml/venv/lib/python3.7/site-packages/git/objects/commit.py\u001b[0m in \u001b[0;36m_set_cache_\u001b[0;34m(self, attr)\u001b[0m\n\u001b[1;32m    141\u001b[0m         \u001b[0;32mif\u001b[0m \u001b[0mattr\u001b[0m \u001b[0;32min\u001b[0m \u001b[0mCommit\u001b[0m\u001b[0;34m.\u001b[0m\u001b[0m__slots__\u001b[0m\u001b[0;34m:\u001b[0m\u001b[0;34m\u001b[0m\u001b[0;34m\u001b[0m\u001b[0m\n\u001b[1;32m    142\u001b[0m             \u001b[0;31m# read the data in a chunk, its faster - then provide a file wrapper\u001b[0m\u001b[0;34m\u001b[0m\u001b[0;34m\u001b[0m\u001b[0;34m\u001b[0m\u001b[0m\n\u001b[0;32m--> 143\u001b[0;31m             \u001b[0mbinsha\u001b[0m\u001b[0;34m,\u001b[0m \u001b[0mtypename\u001b[0m\u001b[0;34m,\u001b[0m \u001b[0mself\u001b[0m\u001b[0;34m.\u001b[0m\u001b[0msize\u001b[0m\u001b[0;34m,\u001b[0m \u001b[0mstream\u001b[0m \u001b[0;34m=\u001b[0m \u001b[0mself\u001b[0m\u001b[0;34m.\u001b[0m\u001b[0mrepo\u001b[0m\u001b[0;34m.\u001b[0m\u001b[0modb\u001b[0m\u001b[0;34m.\u001b[0m\u001b[0mstream\u001b[0m\u001b[0;34m(\u001b[0m\u001b[0mself\u001b[0m\u001b[0;34m.\u001b[0m\u001b[0mbinsha\u001b[0m\u001b[0;34m)\u001b[0m  \u001b[0;31m# @UnusedVariable\u001b[0m\u001b[0;34m\u001b[0m\u001b[0;34m\u001b[0m\u001b[0m\n\u001b[0m\u001b[1;32m    144\u001b[0m             \u001b[0mself\u001b[0m\u001b[0;34m.\u001b[0m\u001b[0m_deserialize\u001b[0m\u001b[0;34m(\u001b[0m\u001b[0mBytesIO\u001b[0m\u001b[0;34m(\u001b[0m\u001b[0mstream\u001b[0m\u001b[0;34m.\u001b[0m\u001b[0mread\u001b[0m\u001b[0;34m(\u001b[0m\u001b[0;34m)\u001b[0m\u001b[0;34m)\u001b[0m\u001b[0;34m)\u001b[0m\u001b[0;34m\u001b[0m\u001b[0;34m\u001b[0m\u001b[0m\n\u001b[1;32m    145\u001b[0m         \u001b[0;32melse\u001b[0m\u001b[0;34m:\u001b[0m\u001b[0;34m\u001b[0m\u001b[0;34m\u001b[0m\u001b[0m\n",
      "\u001b[0;32m~/Documents/ml/venv/lib/python3.7/site-packages/git/db.py\u001b[0m in \u001b[0;36mstream\u001b[0;34m(self, sha)\u001b[0m\n\u001b[1;32m     40\u001b[0m     \u001b[0;32mdef\u001b[0m \u001b[0mstream\u001b[0m\u001b[0;34m(\u001b[0m\u001b[0mself\u001b[0m\u001b[0;34m,\u001b[0m \u001b[0msha\u001b[0m\u001b[0;34m)\u001b[0m\u001b[0;34m:\u001b[0m\u001b[0;34m\u001b[0m\u001b[0;34m\u001b[0m\u001b[0m\n\u001b[1;32m     41\u001b[0m         \u001b[0;34m\"\"\"For now, all lookup is done by git itself\"\"\"\u001b[0m\u001b[0;34m\u001b[0m\u001b[0;34m\u001b[0m\u001b[0m\n\u001b[0;32m---> 42\u001b[0;31m         \u001b[0mhexsha\u001b[0m\u001b[0;34m,\u001b[0m \u001b[0mtypename\u001b[0m\u001b[0;34m,\u001b[0m \u001b[0msize\u001b[0m\u001b[0;34m,\u001b[0m \u001b[0mstream\u001b[0m \u001b[0;34m=\u001b[0m \u001b[0mself\u001b[0m\u001b[0;34m.\u001b[0m\u001b[0m_git\u001b[0m\u001b[0;34m.\u001b[0m\u001b[0mstream_object_data\u001b[0m\u001b[0;34m(\u001b[0m\u001b[0mbin_to_hex\u001b[0m\u001b[0;34m(\u001b[0m\u001b[0msha\u001b[0m\u001b[0;34m)\u001b[0m\u001b[0;34m)\u001b[0m\u001b[0;34m\u001b[0m\u001b[0;34m\u001b[0m\u001b[0m\n\u001b[0m\u001b[1;32m     43\u001b[0m         \u001b[0;32mreturn\u001b[0m \u001b[0mOStream\u001b[0m\u001b[0;34m(\u001b[0m\u001b[0mhex_to_bin\u001b[0m\u001b[0;34m(\u001b[0m\u001b[0mhexsha\u001b[0m\u001b[0;34m)\u001b[0m\u001b[0;34m,\u001b[0m \u001b[0mtypename\u001b[0m\u001b[0;34m,\u001b[0m \u001b[0msize\u001b[0m\u001b[0;34m,\u001b[0m \u001b[0mstream\u001b[0m\u001b[0;34m)\u001b[0m\u001b[0;34m\u001b[0m\u001b[0;34m\u001b[0m\u001b[0m\n\u001b[1;32m     44\u001b[0m \u001b[0;34m\u001b[0m\u001b[0m\n",
      "\u001b[0;32m~/Documents/ml/venv/lib/python3.7/site-packages/git/cmd.py\u001b[0m in \u001b[0;36mstream_object_data\u001b[0;34m(self, ref)\u001b[0m\n\u001b[1;32m   1092\u001b[0m         :note: This method is not threadsafe, you need one independent Command instance per thread to be safe !\"\"\"\n\u001b[1;32m   1093\u001b[0m         \u001b[0mcmd\u001b[0m \u001b[0;34m=\u001b[0m \u001b[0mself\u001b[0m\u001b[0;34m.\u001b[0m\u001b[0m_get_persistent_cmd\u001b[0m\u001b[0;34m(\u001b[0m\u001b[0;34m\"cat_file_all\"\u001b[0m\u001b[0;34m,\u001b[0m \u001b[0;34m\"cat_file\"\u001b[0m\u001b[0;34m,\u001b[0m \u001b[0mbatch\u001b[0m\u001b[0;34m=\u001b[0m\u001b[0;32mTrue\u001b[0m\u001b[0;34m)\u001b[0m\u001b[0;34m\u001b[0m\u001b[0;34m\u001b[0m\u001b[0m\n\u001b[0;32m-> 1094\u001b[0;31m         \u001b[0mhexsha\u001b[0m\u001b[0;34m,\u001b[0m \u001b[0mtypename\u001b[0m\u001b[0;34m,\u001b[0m \u001b[0msize\u001b[0m \u001b[0;34m=\u001b[0m \u001b[0mself\u001b[0m\u001b[0;34m.\u001b[0m\u001b[0m__get_object_header\u001b[0m\u001b[0;34m(\u001b[0m\u001b[0mcmd\u001b[0m\u001b[0;34m,\u001b[0m \u001b[0mref\u001b[0m\u001b[0;34m)\u001b[0m\u001b[0;34m\u001b[0m\u001b[0;34m\u001b[0m\u001b[0m\n\u001b[0m\u001b[1;32m   1095\u001b[0m         \u001b[0;32mreturn\u001b[0m \u001b[0;34m(\u001b[0m\u001b[0mhexsha\u001b[0m\u001b[0;34m,\u001b[0m \u001b[0mtypename\u001b[0m\u001b[0;34m,\u001b[0m \u001b[0msize\u001b[0m\u001b[0;34m,\u001b[0m \u001b[0mself\u001b[0m\u001b[0;34m.\u001b[0m\u001b[0mCatFileContentStream\u001b[0m\u001b[0;34m(\u001b[0m\u001b[0msize\u001b[0m\u001b[0;34m,\u001b[0m \u001b[0mcmd\u001b[0m\u001b[0;34m.\u001b[0m\u001b[0mstdout\u001b[0m\u001b[0;34m)\u001b[0m\u001b[0;34m)\u001b[0m\u001b[0;34m\u001b[0m\u001b[0;34m\u001b[0m\u001b[0m\n\u001b[1;32m   1096\u001b[0m \u001b[0;34m\u001b[0m\u001b[0m\n",
      "\u001b[0;32m~/Documents/ml/venv/lib/python3.7/site-packages/git/cmd.py\u001b[0m in \u001b[0;36m__get_object_header\u001b[0;34m(self, cmd, ref)\u001b[0m\n\u001b[1;32m   1063\u001b[0m     \u001b[0;32mdef\u001b[0m \u001b[0m__get_object_header\u001b[0m\u001b[0;34m(\u001b[0m\u001b[0mself\u001b[0m\u001b[0;34m,\u001b[0m \u001b[0mcmd\u001b[0m\u001b[0;34m,\u001b[0m \u001b[0mref\u001b[0m\u001b[0;34m)\u001b[0m\u001b[0;34m:\u001b[0m\u001b[0;34m\u001b[0m\u001b[0;34m\u001b[0m\u001b[0m\n\u001b[1;32m   1064\u001b[0m         \u001b[0mcmd\u001b[0m\u001b[0;34m.\u001b[0m\u001b[0mstdin\u001b[0m\u001b[0;34m.\u001b[0m\u001b[0mwrite\u001b[0m\u001b[0;34m(\u001b[0m\u001b[0mself\u001b[0m\u001b[0;34m.\u001b[0m\u001b[0m_prepare_ref\u001b[0m\u001b[0;34m(\u001b[0m\u001b[0mref\u001b[0m\u001b[0;34m)\u001b[0m\u001b[0;34m)\u001b[0m\u001b[0;34m\u001b[0m\u001b[0;34m\u001b[0m\u001b[0m\n\u001b[0;32m-> 1065\u001b[0;31m         \u001b[0mcmd\u001b[0m\u001b[0;34m.\u001b[0m\u001b[0mstdin\u001b[0m\u001b[0;34m.\u001b[0m\u001b[0mflush\u001b[0m\u001b[0;34m(\u001b[0m\u001b[0;34m)\u001b[0m\u001b[0;34m\u001b[0m\u001b[0;34m\u001b[0m\u001b[0m\n\u001b[0m\u001b[1;32m   1066\u001b[0m         \u001b[0;32mreturn\u001b[0m \u001b[0mself\u001b[0m\u001b[0;34m.\u001b[0m\u001b[0m_parse_object_header\u001b[0m\u001b[0;34m(\u001b[0m\u001b[0mcmd\u001b[0m\u001b[0;34m.\u001b[0m\u001b[0mstdout\u001b[0m\u001b[0;34m.\u001b[0m\u001b[0mreadline\u001b[0m\u001b[0;34m(\u001b[0m\u001b[0;34m)\u001b[0m\u001b[0;34m)\u001b[0m\u001b[0;34m\u001b[0m\u001b[0;34m\u001b[0m\u001b[0m\n\u001b[1;32m   1067\u001b[0m \u001b[0;34m\u001b[0m\u001b[0m\n",
      "\u001b[0;31mBrokenPipeError\u001b[0m: [Errno 32] Broken pipe"
     ]
    }
   ],
   "source": [
    "commit.author"
   ]
  },
  {
   "cell_type": "code",
   "execution_count": 88,
   "metadata": {},
   "outputs": [
    {
     "name": "stdout",
     "output_type": "stream",
     "text": [
      "Index <class 'git.diff.Diffable.Index'> type\n",
      "NULL_BIN_SHA b'\\x00\\x00\\x00\\x00\\x00\\x00\\x00\\x00\\x00\\x00\\x00\\x00\\x00\\x00\\x00\\x00\\x00\\x00\\x00\\x00' bytes\n",
      "TYPES (b'blob', b'tree', b'commit', b'tag') tuple\n",
      "binsha b'N\\xa0e\\xd9\\xa8\\xe2HG\\x0e\\xc8\\x8b\\xc3\\xdd\\xa8Q\\xff,\\xed\\x06?' bytes\n",
      "count <bound method Commit.count of <git.Commit \"4ea065d9a8e248470ec88bc3dda851ff2ced063f\">> method\n",
      "create_from_tree <bound method Commit.create_from_tree of <class 'git.objects.commit.Commit'>> method\n",
      "diff <bound method Diffable.diff of <git.Commit \"4ea065d9a8e248470ec88bc3dda851ff2ced063f\">> method\n",
      "iter_items <bound method Commit.iter_items of <class 'git.objects.commit.Commit'>> method\n",
      "iter_parents <bound method Commit.iter_parents of <git.Commit \"4ea065d9a8e248470ec88bc3dda851ff2ced063f\">> method\n",
      "list_items <bound method Iterable.list_items of <class 'git.objects.commit.Commit'>> method\n",
      "list_traverse <bound method Traversable.list_traverse of <git.Commit \"4ea065d9a8e248470ec88bc3dda851ff2ced063f\">> method\n",
      "new <bound method Object.new of <class 'git.objects.commit.Commit'>> method\n",
      "new_from_sha <bound method Object.new_from_sha of <class 'git.objects.commit.Commit'>> method\n",
      "repo <git.Repo \"/Users/aaron/Documents/djcode/pick-a-sports-team-project/.git\"> git.repo.base.Repo\n",
      "stream_data <bound method Object.stream_data of <git.Commit \"4ea065d9a8e248470ec88bc3dda851ff2ced063f\">> method\n",
      "traverse <bound method Traversable.traverse of <git.Commit \"4ea065d9a8e248470ec88bc3dda851ff2ced063f\">> method\n"
     ]
    }
   ],
   "source": [
    "for attr in dir(commit):\n",
    "    if not attr.startswith('_'):\n",
    "        try:\n",
    "            val = getattr(commit, attr)\n",
    "            if isinstance(val, (int, str, bool, list, dict)):\n",
    "                pass\n",
    "#                 print(attr, val)\n",
    "            elif is_git_class(val):\n",
    "                pp = python_path(val)\n",
    "                print(attr, val, pp)\n",
    "        except BrokenPipeError:\n",
    "            pass"
   ]
  },
  {
   "cell_type": "code",
   "execution_count": 93,
   "metadata": {},
   "outputs": [
    {
     "data": {
      "text/plain": [
       "<git.Commit \"4ea065d9a8e248470ec88bc3dda851ff2ced063f\">"
      ]
     },
     "execution_count": 93,
     "metadata": {},
     "output_type": "execute_result"
    }
   ],
   "source": [
    "commit"
   ]
  },
  {
   "cell_type": "code",
   "execution_count": 97,
   "metadata": {},
   "outputs": [
    {
     "ename": "BrokenPipeError",
     "evalue": "[Errno 32] Broken pipe",
     "output_type": "error",
     "traceback": [
      "\u001b[0;31m---------------------------------------------------------------------------\u001b[0m",
      "\u001b[0;31mBrokenPipeError\u001b[0m                           Traceback (most recent call last)",
      "\u001b[0;32m<ipython-input-97-e2f11dcffc49>\u001b[0m in \u001b[0;36m<module>\u001b[0;34m\u001b[0m\n\u001b[0;32m----> 1\u001b[0;31m \u001b[0mcommit\u001b[0m\u001b[0;34m.\u001b[0m\u001b[0mauthor\u001b[0m\u001b[0;34m.\u001b[0m\u001b[0mname\u001b[0m\u001b[0;34m\u001b[0m\u001b[0;34m\u001b[0m\u001b[0m\n\u001b[0m",
      "\u001b[0;32m~/Documents/ml/venv/lib/python3.7/site-packages/gitdb/util.py\u001b[0m in \u001b[0;36m__getattr__\u001b[0;34m(self, attr)\u001b[0m\n\u001b[1;32m    251\u001b[0m         \u001b[0mto\u001b[0m \u001b[0mbe\u001b[0m \u001b[0mcreated\u001b[0m \u001b[0;32mand\u001b[0m \u001b[0mset\u001b[0m\u001b[0;34m.\u001b[0m \u001b[0mNext\u001b[0m \u001b[0mtime\u001b[0m \u001b[0mthe\u001b[0m \u001b[0msame\u001b[0m \u001b[0mattribute\u001b[0m \u001b[0;32mis\u001b[0m \u001b[0mreqeusted\u001b[0m\u001b[0;34m,\u001b[0m \u001b[0mit\u001b[0m \u001b[0;32mis\u001b[0m \u001b[0msimply\u001b[0m\u001b[0;34m\u001b[0m\u001b[0;34m\u001b[0m\u001b[0m\n\u001b[1;32m    252\u001b[0m         returned from our dict/slots. \"\"\"\n\u001b[0;32m--> 253\u001b[0;31m         \u001b[0mself\u001b[0m\u001b[0;34m.\u001b[0m\u001b[0m_set_cache_\u001b[0m\u001b[0;34m(\u001b[0m\u001b[0mattr\u001b[0m\u001b[0;34m)\u001b[0m\u001b[0;34m\u001b[0m\u001b[0;34m\u001b[0m\u001b[0m\n\u001b[0m\u001b[1;32m    254\u001b[0m         \u001b[0;31m# will raise in case the cache was not created\u001b[0m\u001b[0;34m\u001b[0m\u001b[0;34m\u001b[0m\u001b[0;34m\u001b[0m\u001b[0m\n\u001b[1;32m    255\u001b[0m         \u001b[0;32mreturn\u001b[0m \u001b[0mobject\u001b[0m\u001b[0;34m.\u001b[0m\u001b[0m__getattribute__\u001b[0m\u001b[0;34m(\u001b[0m\u001b[0mself\u001b[0m\u001b[0;34m,\u001b[0m \u001b[0mattr\u001b[0m\u001b[0;34m)\u001b[0m\u001b[0;34m\u001b[0m\u001b[0;34m\u001b[0m\u001b[0m\n",
      "\u001b[0;32m~/Documents/ml/venv/lib/python3.7/site-packages/git/objects/commit.py\u001b[0m in \u001b[0;36m_set_cache_\u001b[0;34m(self, attr)\u001b[0m\n\u001b[1;32m    141\u001b[0m         \u001b[0;32mif\u001b[0m \u001b[0mattr\u001b[0m \u001b[0;32min\u001b[0m \u001b[0mCommit\u001b[0m\u001b[0;34m.\u001b[0m\u001b[0m__slots__\u001b[0m\u001b[0;34m:\u001b[0m\u001b[0;34m\u001b[0m\u001b[0;34m\u001b[0m\u001b[0m\n\u001b[1;32m    142\u001b[0m             \u001b[0;31m# read the data in a chunk, its faster - then provide a file wrapper\u001b[0m\u001b[0;34m\u001b[0m\u001b[0;34m\u001b[0m\u001b[0;34m\u001b[0m\u001b[0m\n\u001b[0;32m--> 143\u001b[0;31m             \u001b[0mbinsha\u001b[0m\u001b[0;34m,\u001b[0m \u001b[0mtypename\u001b[0m\u001b[0;34m,\u001b[0m \u001b[0mself\u001b[0m\u001b[0;34m.\u001b[0m\u001b[0msize\u001b[0m\u001b[0;34m,\u001b[0m \u001b[0mstream\u001b[0m \u001b[0;34m=\u001b[0m \u001b[0mself\u001b[0m\u001b[0;34m.\u001b[0m\u001b[0mrepo\u001b[0m\u001b[0;34m.\u001b[0m\u001b[0modb\u001b[0m\u001b[0;34m.\u001b[0m\u001b[0mstream\u001b[0m\u001b[0;34m(\u001b[0m\u001b[0mself\u001b[0m\u001b[0;34m.\u001b[0m\u001b[0mbinsha\u001b[0m\u001b[0;34m)\u001b[0m  \u001b[0;31m# @UnusedVariable\u001b[0m\u001b[0;34m\u001b[0m\u001b[0;34m\u001b[0m\u001b[0m\n\u001b[0m\u001b[1;32m    144\u001b[0m             \u001b[0mself\u001b[0m\u001b[0;34m.\u001b[0m\u001b[0m_deserialize\u001b[0m\u001b[0;34m(\u001b[0m\u001b[0mBytesIO\u001b[0m\u001b[0;34m(\u001b[0m\u001b[0mstream\u001b[0m\u001b[0;34m.\u001b[0m\u001b[0mread\u001b[0m\u001b[0;34m(\u001b[0m\u001b[0;34m)\u001b[0m\u001b[0;34m)\u001b[0m\u001b[0;34m)\u001b[0m\u001b[0;34m\u001b[0m\u001b[0;34m\u001b[0m\u001b[0m\n\u001b[1;32m    145\u001b[0m         \u001b[0;32melse\u001b[0m\u001b[0;34m:\u001b[0m\u001b[0;34m\u001b[0m\u001b[0;34m\u001b[0m\u001b[0m\n",
      "\u001b[0;32m~/Documents/ml/venv/lib/python3.7/site-packages/git/db.py\u001b[0m in \u001b[0;36mstream\u001b[0;34m(self, sha)\u001b[0m\n\u001b[1;32m     40\u001b[0m     \u001b[0;32mdef\u001b[0m \u001b[0mstream\u001b[0m\u001b[0;34m(\u001b[0m\u001b[0mself\u001b[0m\u001b[0;34m,\u001b[0m \u001b[0msha\u001b[0m\u001b[0;34m)\u001b[0m\u001b[0;34m:\u001b[0m\u001b[0;34m\u001b[0m\u001b[0;34m\u001b[0m\u001b[0m\n\u001b[1;32m     41\u001b[0m         \u001b[0;34m\"\"\"For now, all lookup is done by git itself\"\"\"\u001b[0m\u001b[0;34m\u001b[0m\u001b[0;34m\u001b[0m\u001b[0m\n\u001b[0;32m---> 42\u001b[0;31m         \u001b[0mhexsha\u001b[0m\u001b[0;34m,\u001b[0m \u001b[0mtypename\u001b[0m\u001b[0;34m,\u001b[0m \u001b[0msize\u001b[0m\u001b[0;34m,\u001b[0m \u001b[0mstream\u001b[0m \u001b[0;34m=\u001b[0m \u001b[0mself\u001b[0m\u001b[0;34m.\u001b[0m\u001b[0m_git\u001b[0m\u001b[0;34m.\u001b[0m\u001b[0mstream_object_data\u001b[0m\u001b[0;34m(\u001b[0m\u001b[0mbin_to_hex\u001b[0m\u001b[0;34m(\u001b[0m\u001b[0msha\u001b[0m\u001b[0;34m)\u001b[0m\u001b[0;34m)\u001b[0m\u001b[0;34m\u001b[0m\u001b[0;34m\u001b[0m\u001b[0m\n\u001b[0m\u001b[1;32m     43\u001b[0m         \u001b[0;32mreturn\u001b[0m \u001b[0mOStream\u001b[0m\u001b[0;34m(\u001b[0m\u001b[0mhex_to_bin\u001b[0m\u001b[0;34m(\u001b[0m\u001b[0mhexsha\u001b[0m\u001b[0;34m)\u001b[0m\u001b[0;34m,\u001b[0m \u001b[0mtypename\u001b[0m\u001b[0;34m,\u001b[0m \u001b[0msize\u001b[0m\u001b[0;34m,\u001b[0m \u001b[0mstream\u001b[0m\u001b[0;34m)\u001b[0m\u001b[0;34m\u001b[0m\u001b[0;34m\u001b[0m\u001b[0m\n\u001b[1;32m     44\u001b[0m \u001b[0;34m\u001b[0m\u001b[0m\n",
      "\u001b[0;32m~/Documents/ml/venv/lib/python3.7/site-packages/git/cmd.py\u001b[0m in \u001b[0;36mstream_object_data\u001b[0;34m(self, ref)\u001b[0m\n\u001b[1;32m   1092\u001b[0m         :note: This method is not threadsafe, you need one independent Command instance per thread to be safe !\"\"\"\n\u001b[1;32m   1093\u001b[0m         \u001b[0mcmd\u001b[0m \u001b[0;34m=\u001b[0m \u001b[0mself\u001b[0m\u001b[0;34m.\u001b[0m\u001b[0m_get_persistent_cmd\u001b[0m\u001b[0;34m(\u001b[0m\u001b[0;34m\"cat_file_all\"\u001b[0m\u001b[0;34m,\u001b[0m \u001b[0;34m\"cat_file\"\u001b[0m\u001b[0;34m,\u001b[0m \u001b[0mbatch\u001b[0m\u001b[0;34m=\u001b[0m\u001b[0;32mTrue\u001b[0m\u001b[0;34m)\u001b[0m\u001b[0;34m\u001b[0m\u001b[0;34m\u001b[0m\u001b[0m\n\u001b[0;32m-> 1094\u001b[0;31m         \u001b[0mhexsha\u001b[0m\u001b[0;34m,\u001b[0m \u001b[0mtypename\u001b[0m\u001b[0;34m,\u001b[0m \u001b[0msize\u001b[0m \u001b[0;34m=\u001b[0m \u001b[0mself\u001b[0m\u001b[0;34m.\u001b[0m\u001b[0m__get_object_header\u001b[0m\u001b[0;34m(\u001b[0m\u001b[0mcmd\u001b[0m\u001b[0;34m,\u001b[0m \u001b[0mref\u001b[0m\u001b[0;34m)\u001b[0m\u001b[0;34m\u001b[0m\u001b[0;34m\u001b[0m\u001b[0m\n\u001b[0m\u001b[1;32m   1095\u001b[0m         \u001b[0;32mreturn\u001b[0m \u001b[0;34m(\u001b[0m\u001b[0mhexsha\u001b[0m\u001b[0;34m,\u001b[0m \u001b[0mtypename\u001b[0m\u001b[0;34m,\u001b[0m \u001b[0msize\u001b[0m\u001b[0;34m,\u001b[0m \u001b[0mself\u001b[0m\u001b[0;34m.\u001b[0m\u001b[0mCatFileContentStream\u001b[0m\u001b[0;34m(\u001b[0m\u001b[0msize\u001b[0m\u001b[0;34m,\u001b[0m \u001b[0mcmd\u001b[0m\u001b[0;34m.\u001b[0m\u001b[0mstdout\u001b[0m\u001b[0;34m)\u001b[0m\u001b[0;34m)\u001b[0m\u001b[0;34m\u001b[0m\u001b[0;34m\u001b[0m\u001b[0m\n\u001b[1;32m   1096\u001b[0m \u001b[0;34m\u001b[0m\u001b[0m\n",
      "\u001b[0;32m~/Documents/ml/venv/lib/python3.7/site-packages/git/cmd.py\u001b[0m in \u001b[0;36m__get_object_header\u001b[0;34m(self, cmd, ref)\u001b[0m\n\u001b[1;32m   1063\u001b[0m     \u001b[0;32mdef\u001b[0m \u001b[0m__get_object_header\u001b[0m\u001b[0;34m(\u001b[0m\u001b[0mself\u001b[0m\u001b[0;34m,\u001b[0m \u001b[0mcmd\u001b[0m\u001b[0;34m,\u001b[0m \u001b[0mref\u001b[0m\u001b[0;34m)\u001b[0m\u001b[0;34m:\u001b[0m\u001b[0;34m\u001b[0m\u001b[0;34m\u001b[0m\u001b[0m\n\u001b[1;32m   1064\u001b[0m         \u001b[0mcmd\u001b[0m\u001b[0;34m.\u001b[0m\u001b[0mstdin\u001b[0m\u001b[0;34m.\u001b[0m\u001b[0mwrite\u001b[0m\u001b[0;34m(\u001b[0m\u001b[0mself\u001b[0m\u001b[0;34m.\u001b[0m\u001b[0m_prepare_ref\u001b[0m\u001b[0;34m(\u001b[0m\u001b[0mref\u001b[0m\u001b[0;34m)\u001b[0m\u001b[0;34m)\u001b[0m\u001b[0;34m\u001b[0m\u001b[0;34m\u001b[0m\u001b[0m\n\u001b[0;32m-> 1065\u001b[0;31m         \u001b[0mcmd\u001b[0m\u001b[0;34m.\u001b[0m\u001b[0mstdin\u001b[0m\u001b[0;34m.\u001b[0m\u001b[0mflush\u001b[0m\u001b[0;34m(\u001b[0m\u001b[0;34m)\u001b[0m\u001b[0;34m\u001b[0m\u001b[0;34m\u001b[0m\u001b[0m\n\u001b[0m\u001b[1;32m   1066\u001b[0m         \u001b[0;32mreturn\u001b[0m \u001b[0mself\u001b[0m\u001b[0;34m.\u001b[0m\u001b[0m_parse_object_header\u001b[0m\u001b[0;34m(\u001b[0m\u001b[0mcmd\u001b[0m\u001b[0;34m.\u001b[0m\u001b[0mstdout\u001b[0m\u001b[0;34m.\u001b[0m\u001b[0mreadline\u001b[0m\u001b[0;34m(\u001b[0m\u001b[0;34m)\u001b[0m\u001b[0;34m)\u001b[0m\u001b[0;34m\u001b[0m\u001b[0;34m\u001b[0m\u001b[0m\n\u001b[1;32m   1067\u001b[0m \u001b[0;34m\u001b[0m\u001b[0m\n",
      "\u001b[0;31mBrokenPipeError\u001b[0m: [Errno 32] Broken pipe"
     ]
    }
   ],
   "source": [
    "commit.author.name"
   ]
  },
  {
   "cell_type": "code",
   "execution_count": null,
   "metadata": {},
   "outputs": [],
   "source": []
  }
 ],
 "metadata": {
  "kernelspec": {
   "display_name": "Python 3",
   "language": "python",
   "name": "python3"
  },
  "language_info": {
   "codemirror_mode": {
    "name": "ipython",
    "version": 3
   },
   "file_extension": ".py",
   "mimetype": "text/x-python",
   "name": "python",
   "nbconvert_exporter": "python",
   "pygments_lexer": "ipython3",
   "version": "3.7.1"
  }
 },
 "nbformat": 4,
 "nbformat_minor": 2
}
